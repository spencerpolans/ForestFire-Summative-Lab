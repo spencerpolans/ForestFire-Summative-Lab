{
 "cells": [
  {
   "cell_type": "code",
   "execution_count": 2,
   "id": "01b2ffdd",
   "metadata": {},
   "outputs": [],
   "source": [
    "# Run pip install if necessary to access the UCI ML Repository\n",
    "#! pip install ucimlrepo\n"
   ]
  },
  {
   "cell_type": "code",
   "execution_count": 3,
   "id": "4b284544",
   "metadata": {},
   "outputs": [
    {
     "name": "stdout",
     "output_type": "stream",
     "text": [
      "<class 'pandas.core.frame.DataFrame'>\n",
      "RangeIndex: 517 entries, 0 to 516\n",
      "Data columns (total 12 columns):\n",
      " #   Column  Non-Null Count  Dtype  \n",
      "---  ------  --------------  -----  \n",
      " 0   X       517 non-null    int64  \n",
      " 1   Y       517 non-null    int64  \n",
      " 2   month   517 non-null    object \n",
      " 3   day     517 non-null    object \n",
      " 4   FFMC    517 non-null    float64\n",
      " 5   DMC     517 non-null    float64\n",
      " 6   DC      517 non-null    float64\n",
      " 7   ISI     517 non-null    float64\n",
      " 8   temp    517 non-null    float64\n",
      " 9   RH      517 non-null    int64  \n",
      " 10  wind    517 non-null    float64\n",
      " 11  rain    517 non-null    float64\n",
      "dtypes: float64(7), int64(3), object(2)\n",
      "memory usage: 48.6+ KB\n",
      "None\n",
      "                X           Y        FFMC         DMC          DC         ISI  \\\n",
      "count  517.000000  517.000000  517.000000  517.000000  517.000000  517.000000   \n",
      "mean     4.669246    4.299807   90.644681  110.872340  547.940039    9.021663   \n",
      "std      2.313778    1.229900    5.520111   64.046482  248.066192    4.559477   \n",
      "min      1.000000    2.000000   18.700000    1.100000    7.900000    0.000000   \n",
      "25%      3.000000    4.000000   90.200000   68.600000  437.700000    6.500000   \n",
      "50%      4.000000    4.000000   91.600000  108.300000  664.200000    8.400000   \n",
      "75%      7.000000    5.000000   92.900000  142.400000  713.900000   10.800000   \n",
      "max      9.000000    9.000000   96.200000  291.300000  860.600000   56.100000   \n",
      "\n",
      "             temp          RH        wind        rain  \n",
      "count  517.000000  517.000000  517.000000  517.000000  \n",
      "mean    18.889168   44.288201    4.017602    0.021663  \n",
      "std      5.806625   16.317469    1.791653    0.295959  \n",
      "min      2.200000   15.000000    0.400000    0.000000  \n",
      "25%     15.500000   33.000000    2.700000    0.000000  \n",
      "50%     19.300000   42.000000    4.000000    0.000000  \n",
      "75%     22.800000   53.000000    4.900000    0.000000  \n",
      "max     33.300000  100.000000    9.400000    6.400000  \n",
      "   area\n",
      "0   0.0\n",
      "1   0.0\n",
      "2   0.0\n",
      "3   0.0\n",
      "4   0.0\n"
     ]
    }
   ],
   "source": [
    "# Data\n",
    "from ucimlrepo import fetch_ucirepo\n",
    "\n",
    "\n",
    "forest_fires = fetch_ucirepo(id=162)\n",
    "X = forest_fires.data.features\n",
    "y = forest_fires.data.targets\n",
    "\n",
    "\n",
    "# Display dataset structure\n",
    "print(X.info())\n",
    "print(X.describe())\n",
    "print(y.head())"
   ]
  },
  {
   "cell_type": "code",
   "execution_count": 4,
   "id": "39c6ae68",
   "metadata": {},
   "outputs": [],
   "source": [
    "#imports\n",
    "import pandas as pd\n",
    "import numpy as np\n",
    "import matplotlib.pyplot as plt\n",
    "import seaborn as sns\n",
    "from sklearn.linear_model import LinearRegression\n",
    "from scipy.stats import pearsonr\n",
    "import os\n",
    "import tarfile\n",
    "import joblib # Imporxst joblib directly\n",
    "from sklearn.datasets._base import _pkl_filepath, get_data_home\n",
    "import statsmodels.api as sm\n",
    "import statsmodels.formula.api as smf\n",
    "import seaborn as snsxs\n",
    "from sklearn.linear_model import Ridge\n",
    "from sklearn.model_selection import train_test_split\n",
    "from sklearn.metrics import mean_squared_error\n",
    "from sklearn.linear_model import Lasso\n",
    "from sklearn.preprocessing import StandardScaler\n",
    "from sklearn.linear_model import LogisticRegression\n",
    "from sklearn.metrics import confusion_matrix, accuracy_score, classification_report\n",
    "from statsmodels.stats.outliers_influence import variance_inflation_factor\n",
    "\n"
   ]
  },
  {
   "cell_type": "code",
   "execution_count": 5,
   "id": "228e025b",
   "metadata": {},
   "outputs": [
    {
     "name": "stdout",
     "output_type": "stream",
     "text": [
      "X        0\n",
      "Y        0\n",
      "month    0\n",
      "day      0\n",
      "FFMC     0\n",
      "DMC      0\n",
      "DC       0\n",
      "ISI      0\n",
      "temp     0\n",
      "RH       0\n",
      "wind     0\n",
      "rain     0\n",
      "area     0\n",
      "dtype: int64\n",
      "Number of duplicates: 4\n",
      "(513, 13)\n"
     ]
    }
   ],
   "source": [
    "\n",
    "df = pd.read_csv(\"forestfires.csv\")\n",
    "\n",
    "print(df.isnull().sum())\n",
    "print(f\"Number of duplicates: {df.duplicated().sum()}\")\n",
    "df = df.drop_duplicates()\n",
    "#dropped duplicates shape \n",
    "print(df.shape)"
   ]
  },
  {
   "cell_type": "code",
   "execution_count": 6,
   "id": "4fc39af8",
   "metadata": {},
   "outputs": [
    {
     "data": {
      "text/html": [
       "<div>\n",
       "<style scoped>\n",
       "    .dataframe tbody tr th:only-of-type {\n",
       "        vertical-align: middle;\n",
       "    }\n",
       "\n",
       "    .dataframe tbody tr th {\n",
       "        vertical-align: top;\n",
       "    }\n",
       "\n",
       "    .dataframe thead th {\n",
       "        text-align: right;\n",
       "    }\n",
       "</style>\n",
       "<table border=\"1\" class=\"dataframe\">\n",
       "  <thead>\n",
       "    <tr style=\"text-align: right;\">\n",
       "      <th></th>\n",
       "      <th>area</th>\n",
       "      <th>X</th>\n",
       "      <th>Y</th>\n",
       "      <th>FFMC</th>\n",
       "      <th>DMC</th>\n",
       "      <th>DC</th>\n",
       "      <th>ISI</th>\n",
       "      <th>temp</th>\n",
       "      <th>RH</th>\n",
       "      <th>wind</th>\n",
       "      <th>rain</th>\n",
       "    </tr>\n",
       "  </thead>\n",
       "  <tbody>\n",
       "    <tr>\n",
       "      <th>area</th>\n",
       "      <td>1.000000</td>\n",
       "      <td>0.062930</td>\n",
       "      <td>0.045168</td>\n",
       "      <td>0.040232</td>\n",
       "      <td>0.073783</td>\n",
       "      <td>0.050313</td>\n",
       "      <td>0.008411</td>\n",
       "      <td>0.098222</td>\n",
       "      <td>-0.075460</td>\n",
       "      <td>0.012699</td>\n",
       "      <td>-0.007418</td>\n",
       "    </tr>\n",
       "    <tr>\n",
       "      <th>X</th>\n",
       "      <td>0.062930</td>\n",
       "      <td>1.000000</td>\n",
       "      <td>0.542705</td>\n",
       "      <td>-0.020499</td>\n",
       "      <td>-0.048861</td>\n",
       "      <td>-0.088801</td>\n",
       "      <td>0.006033</td>\n",
       "      <td>-0.051070</td>\n",
       "      <td>0.083757</td>\n",
       "      <td>0.020869</td>\n",
       "      <td>0.065176</td>\n",
       "    </tr>\n",
       "    <tr>\n",
       "      <th>Y</th>\n",
       "      <td>0.045168</td>\n",
       "      <td>0.542705</td>\n",
       "      <td>1.000000</td>\n",
       "      <td>-0.045979</td>\n",
       "      <td>0.008210</td>\n",
       "      <td>-0.098496</td>\n",
       "      <td>-0.023142</td>\n",
       "      <td>-0.023871</td>\n",
       "      <td>0.062587</td>\n",
       "      <td>-0.019537</td>\n",
       "      <td>0.033313</td>\n",
       "    </tr>\n",
       "    <tr>\n",
       "      <th>FFMC</th>\n",
       "      <td>0.040232</td>\n",
       "      <td>-0.020499</td>\n",
       "      <td>-0.045979</td>\n",
       "      <td>1.000000</td>\n",
       "      <td>0.383641</td>\n",
       "      <td>0.332936</td>\n",
       "      <td>0.532083</td>\n",
       "      <td>0.431609</td>\n",
       "      <td>-0.300827</td>\n",
       "      <td>-0.029208</td>\n",
       "      <td>0.056806</td>\n",
       "    </tr>\n",
       "    <tr>\n",
       "      <th>DMC</th>\n",
       "      <td>0.073783</td>\n",
       "      <td>-0.048861</td>\n",
       "      <td>0.008210</td>\n",
       "      <td>0.383641</td>\n",
       "      <td>1.000000</td>\n",
       "      <td>0.681741</td>\n",
       "      <td>0.304585</td>\n",
       "      <td>0.469590</td>\n",
       "      <td>0.071711</td>\n",
       "      <td>-0.105111</td>\n",
       "      <td>0.074780</td>\n",
       "    </tr>\n",
       "    <tr>\n",
       "      <th>DC</th>\n",
       "      <td>0.050313</td>\n",
       "      <td>-0.088801</td>\n",
       "      <td>-0.098496</td>\n",
       "      <td>0.332936</td>\n",
       "      <td>0.681741</td>\n",
       "      <td>1.000000</td>\n",
       "      <td>0.228168</td>\n",
       "      <td>0.497584</td>\n",
       "      <td>-0.044067</td>\n",
       "      <td>-0.203010</td>\n",
       "      <td>0.035690</td>\n",
       "    </tr>\n",
       "    <tr>\n",
       "      <th>ISI</th>\n",
       "      <td>0.008411</td>\n",
       "      <td>0.006033</td>\n",
       "      <td>-0.023142</td>\n",
       "      <td>0.532083</td>\n",
       "      <td>0.304585</td>\n",
       "      <td>0.228168</td>\n",
       "      <td>1.000000</td>\n",
       "      <td>0.394217</td>\n",
       "      <td>-0.133363</td>\n",
       "      <td>0.106825</td>\n",
       "      <td>0.067664</td>\n",
       "    </tr>\n",
       "    <tr>\n",
       "      <th>temp</th>\n",
       "      <td>0.098222</td>\n",
       "      <td>-0.051070</td>\n",
       "      <td>-0.023871</td>\n",
       "      <td>0.431609</td>\n",
       "      <td>0.469590</td>\n",
       "      <td>0.497584</td>\n",
       "      <td>0.394217</td>\n",
       "      <td>1.000000</td>\n",
       "      <td>-0.528670</td>\n",
       "      <td>-0.227618</td>\n",
       "      <td>0.069526</td>\n",
       "    </tr>\n",
       "    <tr>\n",
       "      <th>RH</th>\n",
       "      <td>-0.075460</td>\n",
       "      <td>0.083757</td>\n",
       "      <td>0.062587</td>\n",
       "      <td>-0.300827</td>\n",
       "      <td>0.071711</td>\n",
       "      <td>-0.044067</td>\n",
       "      <td>-0.133363</td>\n",
       "      <td>-0.528670</td>\n",
       "      <td>1.000000</td>\n",
       "      <td>0.071433</td>\n",
       "      <td>0.099616</td>\n",
       "    </tr>\n",
       "    <tr>\n",
       "      <th>wind</th>\n",
       "      <td>0.012699</td>\n",
       "      <td>0.020869</td>\n",
       "      <td>-0.019537</td>\n",
       "      <td>-0.029208</td>\n",
       "      <td>-0.105111</td>\n",
       "      <td>-0.203010</td>\n",
       "      <td>0.106825</td>\n",
       "      <td>-0.227618</td>\n",
       "      <td>0.071433</td>\n",
       "      <td>1.000000</td>\n",
       "      <td>0.061479</td>\n",
       "    </tr>\n",
       "    <tr>\n",
       "      <th>rain</th>\n",
       "      <td>-0.007418</td>\n",
       "      <td>0.065176</td>\n",
       "      <td>0.033313</td>\n",
       "      <td>0.056806</td>\n",
       "      <td>0.074780</td>\n",
       "      <td>0.035690</td>\n",
       "      <td>0.067664</td>\n",
       "      <td>0.069526</td>\n",
       "      <td>0.099616</td>\n",
       "      <td>0.061479</td>\n",
       "      <td>1.000000</td>\n",
       "    </tr>\n",
       "  </tbody>\n",
       "</table>\n",
       "</div>"
      ],
      "text/plain": [
       "          area         X         Y      FFMC       DMC        DC       ISI  \\\n",
       "area  1.000000  0.062930  0.045168  0.040232  0.073783  0.050313  0.008411   \n",
       "X     0.062930  1.000000  0.542705 -0.020499 -0.048861 -0.088801  0.006033   \n",
       "Y     0.045168  0.542705  1.000000 -0.045979  0.008210 -0.098496 -0.023142   \n",
       "FFMC  0.040232 -0.020499 -0.045979  1.000000  0.383641  0.332936  0.532083   \n",
       "DMC   0.073783 -0.048861  0.008210  0.383641  1.000000  0.681741  0.304585   \n",
       "DC    0.050313 -0.088801 -0.098496  0.332936  0.681741  1.000000  0.228168   \n",
       "ISI   0.008411  0.006033 -0.023142  0.532083  0.304585  0.228168  1.000000   \n",
       "temp  0.098222 -0.051070 -0.023871  0.431609  0.469590  0.497584  0.394217   \n",
       "RH   -0.075460  0.083757  0.062587 -0.300827  0.071711 -0.044067 -0.133363   \n",
       "wind  0.012699  0.020869 -0.019537 -0.029208 -0.105111 -0.203010  0.106825   \n",
       "rain -0.007418  0.065176  0.033313  0.056806  0.074780  0.035690  0.067664   \n",
       "\n",
       "          temp        RH      wind      rain  \n",
       "area  0.098222 -0.075460  0.012699 -0.007418  \n",
       "X    -0.051070  0.083757  0.020869  0.065176  \n",
       "Y    -0.023871  0.062587 -0.019537  0.033313  \n",
       "FFMC  0.431609 -0.300827 -0.029208  0.056806  \n",
       "DMC   0.469590  0.071711 -0.105111  0.074780  \n",
       "DC    0.497584 -0.044067 -0.203010  0.035690  \n",
       "ISI   0.394217 -0.133363  0.106825  0.067664  \n",
       "temp  1.000000 -0.528670 -0.227618  0.069526  \n",
       "RH   -0.528670  1.000000  0.071433  0.099616  \n",
       "wind -0.227618  0.071433  1.000000  0.061479  \n",
       "rain  0.069526  0.099616  0.061479  1.000000  "
      ]
     },
     "execution_count": 6,
     "metadata": {},
     "output_type": "execute_result"
    }
   ],
   "source": [
    "#Step 2\n",
    "#Correlations\n",
    "correlation_matrix = df[['area', 'X', 'Y', 'FFMC', 'DMC', 'DC', 'ISI', 'temp', 'RH', 'wind', 'rain']].corr()\n",
    "\n",
    "# Print correlation of each feature with 'area'\n",
    "correlation_matrix\n"
   ]
  },
  {
   "cell_type": "code",
   "execution_count": 7,
   "id": "0a2634b1",
   "metadata": {},
   "outputs": [
    {
     "data": {
      "image/png": "[encoded data removed]",
      "text/plain": [
       "<Figure size 800x500 with 1 Axes>"
      ]
     },
     "metadata": {},
     "output_type": "display_data"
    }
   ],
   "source": [
    "#Step 2 Plot Scatterplots\n",
    "#temp, DMC, RH have highest correlation\n",
    "\n",
    "X_temp = df[['temp']]\n",
    "y = df['area']\n",
    "\n",
    "# Fit model\n",
    "model_temp = LinearRegression()\n",
    "model_temp.fit(X_temp, y)\n",
    "y_pred_temp = model_temp.predict(X_temp)\n",
    "\n",
    "# Plot\n",
    "plt.figure(figsize=(8, 5))\n",
    "plt.scatter(X_temp, y, alpha=0.3, label='Actual Data')\n",
    "plt.plot(X_temp, y_pred_temp, color='red', linewidth=2, label='Regression Line')\n",
    "plt.xlabel('Temperature (Celcius)')\n",
    "plt.ylabel('Area Burned')\n",
    "plt.title('Temperature vs Area Burned with Regression Line')\n",
    "plt.legend()\n",
    "plt.grid(True)\n",
    "plt.tight_layout()\n",
    "plt.show()\n"
   ]
  },
  {
   "cell_type": "code",
   "execution_count": 8,
   "id": "c50164d9",
   "metadata": {},
   "outputs": [
    {
     "data": {
      "image/png": "[encoded data removed]",
      "text/plain": [
       "<Figure size 800x500 with 1 Axes>"
      ]
     },
     "metadata": {},
     "output_type": "display_data"
    }
   ],
   "source": [
    "# DMC (Duff Moisture Code) (asked chatGPT was this was)\n",
    "\n",
    "X_dmc = df[['DMC']]\n",
    "model_dmc = LinearRegression()\n",
    "model_dmc.fit(X_dmc, y)\n",
    "y_pred_dmc = model_dmc.predict(X_dmc)\n",
    "\n",
    "plt.figure(figsize=(8, 5))\n",
    "plt.scatter(X_dmc, y, alpha=0.3, label='Actual Data')\n",
    "plt.plot(X_dmc, y_pred_dmc, color='red', linewidth=2, label='Regression Line')\n",
    "plt.xlabel('Duff Moisture Code (DMC)')\n",
    "plt.ylabel('Area Burned')\n",
    "plt.title('DMC vs Area Burned with Regression Line')\n",
    "plt.legend()\n",
    "plt.grid(True)\n",
    "plt.tight_layout()\n",
    "plt.show()\n"
   ]
  },
  {
   "cell_type": "code",
   "execution_count": 9,
   "id": "02d09404",
   "metadata": {},
   "outputs": [
    {
     "data": {
      "image/png": "[encoded data removed]",
      "text/plain": [
       "<Figure size 800x500 with 1 Axes>"
      ]
     },
     "metadata": {},
     "output_type": "display_data"
    }
   ],
   "source": [
    "# Relative Humidity (asked chatgpt was this was)\n",
    "X_rh = df[['RH']]\n",
    "model_rh = LinearRegression()\n",
    "model_rh.fit(X_rh, y)\n",
    "y_pred_rh = model_rh.predict(X_rh)\n",
    "\n",
    "plt.figure(figsize=(8, 5))\n",
    "plt.scatter(X_rh, y, alpha=0.3, label='Actual Data')\n",
    "plt.plot(X_rh, y_pred_rh, color='red', linewidth=2, label='Regression Line')\n",
    "plt.xlabel('Relative Humidity')\n",
    "plt.ylabel('Area Burned')\n",
    "plt.title('Relative Humidity vs Area Burned with Regression Line')\n",
    "plt.legend()\n",
    "plt.grid(True)\n",
    "plt.tight_layout()\n",
    "plt.show()\n"
   ]
  },
  {
   "cell_type": "code",
   "execution_count": 10,
   "id": "ef72ee36",
   "metadata": {},
   "outputs": [
    {
     "data": {
      "text/plain": [
       "(106, 407)"
      ]
     },
     "execution_count": 10,
     "metadata": {},
     "output_type": "execute_result"
    }
   ],
   "source": [
    "\n",
    "X = df[['temp', 'DMC', 'RH']]\n",
    "y = df['area']\n",
    "X_const = sm.add_constant(X)\n",
    "\n",
    "# Fit OLS model\n",
    "model = sm.OLS(y, X_const).fit()\n",
    "\n",
    "# Get residuals\n",
    "residuals = model.resid\n",
    "\n",
    "# Count positive and negative residuals\n",
    "positive_residuals = (residuals > 0).sum()\n",
    "negative_residuals = (residuals < 0).sum()\n",
    "\n",
    "positive_residuals, negative_residuals\n"
   ]
  },
  {
   "cell_type": "code",
   "execution_count": 11,
   "id": "e09443e9",
   "metadata": {},
   "outputs": [
    {
     "data": {
      "image/png": "[encoded data removed]",
      "text/plain": [
       "<Figure size 640x480 with 1 Axes>"
      ]
     },
     "metadata": {},
     "output_type": "display_data"
    }
   ],
   "source": [
    "#residual plot\n",
    "plt.scatter(model.fittedvalues, residuals, color='blue')\n",
    "plt.axhline(0, color='red', linestyle='--')\n",
    "plt.xlabel('Predicted Values')\n",
    "plt.ylabel('Residuals')\n",
    "plt.title('Residual Plot (predicted area burned)')\n",
    "plt.grid(True)\n",
    "plt.show()"
   ]
  },
  {
   "cell_type": "code",
   "execution_count": 12,
   "id": "97a050b3",
   "metadata": {},
   "outputs": [
    {
     "name": "stdout",
     "output_type": "stream",
     "text": [
      "                            OLS Regression Results                            \n",
      "==============================================================================\n",
      "Dep. Variable:                   area   R-squared:                       0.013\n",
      "Model:                            OLS   Adj. R-squared:                  0.007\n",
      "Method:                 Least Squares   F-statistic:                     2.182\n",
      "Date:                Thu, 24 Apr 2025   Prob (F-statistic):             0.0893\n",
      "Time:                        18:18:09   Log-Likelihood:                -2856.8\n",
      "No. Observations:                 513   AIC:                             5722.\n",
      "Df Residuals:                     509   BIC:                             5739.\n",
      "Df Model:                           3                                         \n",
      "Covariance Type:            nonrobust                                         \n",
      "==============================================================================\n",
      "                 coef    std err          t      P>|t|      [0.025      0.975]\n",
      "------------------------------------------------------------------------------\n",
      "const          8.5007     18.562      0.458      0.647     -27.968      44.969\n",
      "temp           0.4258      0.711      0.599      0.549      -0.970       1.822\n",
      "DMC            0.0595      0.055      1.084      0.279      -0.048       0.167\n",
      "RH            -0.2313      0.224     -1.032      0.303      -0.672       0.209\n",
      "==============================================================================\n",
      "Omnibus:                      969.881   Durbin-Watson:                   1.645\n",
      "Prob(Omnibus):                  0.000   Jarque-Bera (JB):           775843.821\n",
      "Skew:                          12.624   Prob(JB):                         0.00\n",
      "Kurtosis:                     191.837   Cond. No.                         895.\n",
      "==============================================================================\n",
      "\n",
      "Notes:\n",
      "[1] Standard Errors assume that the covariance matrix of the errors is correctly specified.\n"
     ]
    },
    {
     "data": {
      "text/plain": [
       "0.0069"
      ]
     },
     "execution_count": 12,
     "metadata": {},
     "output_type": "execute_result"
    }
   ],
   "source": [
    "#Step 3\n",
    "#baseline model\n",
    "X_base = df[['temp', 'DMC', 'RH']]\n",
    "X_base_const = sm.add_constant(X_base)\n",
    "y = df['area']\n",
    "\n",
    "# Fit the model\n",
    "model_base = sm.OLS(y, X_base_const).fit()\n",
    "\n",
    "# View model summary\n",
    "print(model_base.summary())\n",
    "\n",
    "#show adj r squared\n",
    "r_squared_adj = model_base.rsquared_adj\n",
    "round(r_squared_adj, 4)"
   ]
  },
  {
   "cell_type": "code",
   "execution_count": 13,
   "id": "7a24fe9a",
   "metadata": {},
   "outputs": [
    {
     "name": "stdout",
     "output_type": "stream",
     "text": [
      "                            OLS Regression Results                            \n",
      "==============================================================================\n",
      "Dep. Variable:                   area   R-squared:                       0.015\n",
      "Model:                            OLS   Adj. R-squared:                  0.003\n",
      "Method:                 Least Squares   F-statistic:                     1.286\n",
      "Date:                Thu, 24 Apr 2025   Prob (F-statistic):              0.262\n",
      "Time:                        18:18:09   Log-Likelihood:                -2856.2\n",
      "No. Observations:                 513   AIC:                             5726.\n",
      "Df Residuals:                     506   BIC:                             5756.\n",
      "Df Model:                           6                                         \n",
      "Covariance Type:            nonrobust                                         \n",
      "==============================================================================\n",
      "                 coef    std err          t      P>|t|      [0.025      0.975]\n",
      "------------------------------------------------------------------------------\n",
      "const         31.5256     28.744      1.097      0.273     -24.947      87.998\n",
      "temp          -1.4893      2.526     -0.590      0.556      -6.451       3.473\n",
      "temp_sq        0.0511      0.064      0.795      0.427      -0.075       0.177\n",
      "DMC            0.0955      0.178      0.538      0.591      -0.253       0.444\n",
      "DMC_sq        -0.0001      0.001     -0.181      0.856      -0.001       0.001\n",
      "RH            -0.6298      0.922     -0.683      0.495      -2.440       1.181\n",
      "RH_sq          0.0039      0.009      0.446      0.656      -0.013       0.021\n",
      "==============================================================================\n",
      "Omnibus:                      968.171   Durbin-Watson:                   1.644\n",
      "Prob(Omnibus):                  0.000   Jarque-Bera (JB):           768514.951\n",
      "Skew:                          12.578   Prob(JB):                         0.00\n",
      "Kurtosis:                     190.939   Cond. No.                     2.45e+05\n",
      "==============================================================================\n",
      "\n",
      "Notes:\n",
      "[1] Standard Errors assume that the covariance matrix of the errors is correctly specified.\n",
      "[2] The condition number is large, 2.45e+05. This might indicate that there are\n",
      "strong multicollinearity or other numerical problems.\n"
     ]
    }
   ],
   "source": [
    "# quadratics\n",
    "df['temp_sq'] = df['temp'] ** 2\n",
    "df['RH_sq'] = df['RH'] ** 2\n",
    "df['DMC_sq'] = df['DMC'] ** 2\n",
    "\n",
    "# Include in model\n",
    "X_quad = df[['temp', 'temp_sq', 'DMC', 'DMC_sq', 'RH', 'RH_sq']]\n",
    "X_quad_const = sm.add_constant(X_quad)\n",
    "y = df['area']\n",
    "\n",
    "# Fit the model\n",
    "model_quad = sm.OLS(y, X_quad_const).fit()\n",
    "\n",
    "# Show the summary\n",
    "print(model_quad.summary())\n",
    "\n",
    "#woof... nothing significant going on here\n"
   ]
  },
  {
   "cell_type": "code",
   "execution_count": 14,
   "id": "5b8eb650",
   "metadata": {},
   "outputs": [
    {
     "name": "stdout",
     "output_type": "stream",
     "text": [
      "                            OLS Regression Results                            \n",
      "==============================================================================\n",
      "Dep. Variable:                   area   R-squared:                       0.004\n",
      "Model:                            OLS   Adj. R-squared:                  0.000\n",
      "Method:                 Least Squares   F-statistic:                     1.058\n",
      "Date:                Thu, 24 Apr 2025   Prob (F-statistic):              0.348\n",
      "Time:                        18:18:09   Log-Likelihood:                -2859.0\n",
      "No. Observations:                 513   AIC:                             5724.\n",
      "Df Residuals:                     510   BIC:                             5737.\n",
      "Df Model:                           2                                         \n",
      "Covariance Type:            nonrobust                                         \n",
      "==============================================================================\n",
      "                 coef    std err          t      P>|t|      [0.025      0.975]\n",
      "------------------------------------------------------------------------------\n",
      "const          2.3903     10.267      0.233      0.816     -17.780      22.560\n",
      "X              1.4997      1.449      1.035      0.301      -1.347       4.346\n",
      "Y              0.8105      2.731      0.297      0.767      -4.555       6.176\n",
      "==============================================================================\n",
      "Omnibus:                      972.566   Durbin-Watson:                   1.651\n",
      "Prob(Omnibus):                  0.000   Jarque-Bera (JB):           783629.760\n",
      "Skew:                          12.699   Prob(JB):                         0.00\n",
      "Kurtosis:                     192.779   Cond. No.                         25.4\n",
      "==============================================================================\n",
      "\n",
      "Notes:\n",
      "[1] Standard Errors assume that the covariance matrix of the errors is correctly specified.\n"
     ]
    },
    {
     "data": {
      "text/plain": [
       "0.0002"
      ]
     },
     "execution_count": 14,
     "metadata": {},
     "output_type": "execute_result"
    }
   ],
   "source": [
    "#just X and Y\n",
    "X_grid = df[['X', 'Y']]\n",
    "X_grid_const = sm.add_constant(X_grid)\n",
    "y= df['area']\n",
    "\n",
    "model_xy = sm.OLS(y, X_grid_const).fit()\n",
    "\n",
    "print(model_xy.summary())\n",
    "\n",
    "r_squared_xy_adj = model_xy.rsquared_adj\n",
    "round(r_squared_xy_adj, 4)\n"
   ]
  },
  {
   "cell_type": "code",
   "execution_count": 15,
   "id": "65ccf5de",
   "metadata": {},
   "outputs": [
    {
     "name": "stdout",
     "output_type": "stream",
     "text": [
      "                            OLS Regression Results                            \n",
      "==============================================================================\n",
      "Dep. Variable:                   area   R-squared:                       0.011\n",
      "Model:                            OLS   Adj. R-squared:                  0.007\n",
      "Method:                 Least Squares   F-statistic:                     2.920\n",
      "Date:                Thu, 24 Apr 2025   Prob (F-statistic):             0.0548\n",
      "Time:                        18:18:09   Log-Likelihood:                -2857.1\n",
      "No. Observations:                 513   AIC:                             5720.\n",
      "Df Residuals:                     510   BIC:                             5733.\n",
      "Df Model:                           2                                         \n",
      "Covariance Type:            nonrobust                                         \n",
      "==============================================================================\n",
      "                 coef    std err          t      P>|t|      [0.025      0.975]\n",
      "------------------------------------------------------------------------------\n",
      "const          8.2008     19.352      0.424      0.672     -29.818      46.219\n",
      "temp          -0.8803      2.160     -0.407      0.684      -5.125       3.364\n",
      "temp_sq        0.0546      0.059      0.929      0.353      -0.061       0.170\n",
      "==============================================================================\n",
      "Omnibus:                      969.618   Durbin-Watson:                   1.651\n",
      "Prob(Omnibus):                  0.000   Jarque-Bera (JB):           772863.936\n",
      "Skew:                          12.618   Prob(JB):                         0.00\n",
      "Kurtosis:                     191.469   Cond. No.                     3.09e+03\n",
      "==============================================================================\n",
      "\n",
      "Notes:\n",
      "[1] Standard Errors assume that the covariance matrix of the errors is correctly specified.\n",
      "[2] The condition number is large, 3.09e+03. This might indicate that there are\n",
      "strong multicollinearity or other numerical problems.\n"
     ]
    }
   ],
   "source": [
    "#try with just temp\n",
    "X_temp_only = df[['temp', 'temp_sq']]\n",
    "X_temp_const = sm.add_constant(X_temp_only)\n",
    "y = df['area']\n",
    "\n",
    "# Fit the model\n",
    "model_temp_only = sm.OLS(y, X_temp_const).fit()\n",
    "\n",
    "# Show the summary\n",
    "print(model_temp_only.summary())\n",
    "\n"
   ]
  },
  {
   "cell_type": "code",
   "execution_count": 16,
   "id": "24f45722",
   "metadata": {},
   "outputs": [
    {
     "name": "stdout",
     "output_type": "stream",
     "text": [
      "                            OLS Regression Results                            \n",
      "==============================================================================\n",
      "Dep. Variable:                   area   R-squared:                       0.012\n",
      "Model:                            OLS   Adj. R-squared:                  0.003\n",
      "Method:                 Least Squares   F-statistic:                     1.277\n",
      "Date:                Thu, 24 Apr 2025   Prob (F-statistic):              0.272\n",
      "Time:                        18:18:09   Log-Likelihood:                -2856.9\n",
      "No. Observations:                 513   AIC:                             5726.\n",
      "Df Residuals:                     507   BIC:                             5751.\n",
      "Df Model:                           5                                         \n",
      "Covariance Type:            nonrobust                                         \n",
      "==============================================================================\n",
      "                 coef    std err          t      P>|t|      [0.025      0.975]\n",
      "------------------------------------------------------------------------------\n",
      "const          6.6294     56.935      0.116      0.907    -105.229     118.488\n",
      "temp           0.2606      3.850      0.068      0.946      -7.303       7.824\n",
      "temp_sq        0.0317      0.075      0.426      0.671      -0.115       0.178\n",
      "RH            -0.1294      1.479     -0.087      0.930      -3.036       2.777\n",
      "RH_sq          0.0019      0.010      0.189      0.850      -0.018       0.022\n",
      "temp_RH       -0.0122      0.041     -0.297      0.766      -0.093       0.068\n",
      "==============================================================================\n",
      "Omnibus:                      967.720   Durbin-Watson:                   1.648\n",
      "Prob(Omnibus):                  0.000   Jarque-Bera (JB):           763633.329\n",
      "Skew:                          12.568   Prob(JB):                         0.00\n",
      "Kurtosis:                     190.333   Cond. No.                     5.90e+04\n",
      "==============================================================================\n",
      "\n",
      "Notes:\n",
      "[1] Standard Errors assume that the covariance matrix of the errors is correctly specified.\n",
      "[2] The condition number is large, 5.9e+04. This might indicate that there are\n",
      "strong multicollinearity or other numerical problems.\n"
     ]
    }
   ],
   "source": [
    "#temp * RH (dry air and temp)\n",
    "df['temp_RH'] = df['temp'] * df['RH']\n",
    "\n",
    "# Define predictors including the interaction\n",
    "X_interaction = df[['temp', 'temp_sq', 'RH', 'RH_sq', 'temp_RH']]\n",
    "X_interaction_const = sm.add_constant(X_interaction)\n",
    "y = df['area']\n",
    "\n",
    "model_interaction = sm.OLS(y, X_interaction_const).fit()\n",
    "\n",
    "print(model_interaction.summary()) "
   ]
  },
  {
   "cell_type": "code",
   "execution_count": 17,
   "id": "b625baf6",
   "metadata": {},
   "outputs": [
    {
     "name": "stdout",
     "output_type": "stream",
     "text": [
      "                            OLS Regression Results                            \n",
      "==============================================================================\n",
      "Dep. Variable:                   area   R-squared:                       0.016\n",
      "Model:                            OLS   Adj. R-squared:                  0.006\n",
      "Method:                 Least Squares   F-statistic:                     1.644\n",
      "Date:                Thu, 24 Apr 2025   Prob (F-statistic):              0.147\n",
      "Time:                        18:18:09   Log-Likelihood:                -2855.9\n",
      "No. Observations:                 513   AIC:                             5724.\n",
      "Df Residuals:                     507   BIC:                             5749.\n",
      "Df Model:                           5                                         \n",
      "Covariance Type:            nonrobust                                         \n",
      "==============================================================================\n",
      "                 coef    std err          t      P>|t|      [0.025      0.975]\n",
      "------------------------------------------------------------------------------\n",
      "const         11.1405     19.485      0.572      0.568     -27.141      49.422\n",
      "temp          -0.4823      2.432     -0.198      0.843      -5.261       4.296\n",
      "temp_sq       -0.0011      0.076     -0.014      0.989      -0.151       0.149\n",
      "DMC           -0.1346      0.220     -0.612      0.541      -0.567       0.298\n",
      "DMC_sq        -0.0002      0.001     -0.350      0.726      -0.001       0.001\n",
      "temp_DMC       0.0131      0.010      1.313      0.190      -0.006       0.033\n",
      "==============================================================================\n",
      "Omnibus:                      969.499   Durbin-Watson:                   1.657\n",
      "Prob(Omnibus):                  0.000   Jarque-Bera (JB):           779635.755\n",
      "Skew:                          12.609   Prob(JB):                         0.00\n",
      "Kurtosis:                     192.310   Cond. No.                     1.68e+05\n",
      "==============================================================================\n",
      "\n",
      "Notes:\n",
      "[1] Standard Errors assume that the covariance matrix of the errors is correctly specified.\n",
      "[2] The condition number is large, 1.68e+05. This might indicate that there are\n",
      "strong multicollinearity or other numerical problems.\n"
     ]
    }
   ],
   "source": [
    "#High temperature + dry fuels (high DMC) should logically lead to more fire spread. They also had weak positive correlations with area.\n",
    "df['temp_DMC'] = df['temp'] * df['DMC']\n",
    "\n",
    "X_temp_dmc = df[['temp', 'temp_sq', 'DMC', 'DMC_sq', 'temp_DMC']]\n",
    "X_temp_dmc_const = sm.add_constant(X_temp_dmc)\n",
    "\n",
    "model_temp_dmc = sm.OLS(df['area'], X_temp_dmc_const).fit()\n",
    "print(model_temp_dmc.summary()) \n"
   ]
  },
  {
   "cell_type": "code",
   "execution_count": 18,
   "id": "2451a970",
   "metadata": {},
   "outputs": [
    {
     "name": "stdout",
     "output_type": "stream",
     "text": [
      "                            OLS Regression Results                            \n",
      "==============================================================================\n",
      "Dep. Variable:                   area   R-squared:                       0.020\n",
      "Model:                            OLS   Adj. R-squared:                  0.012\n",
      "Method:                 Least Squares   F-statistic:                     2.547\n",
      "Date:                Thu, 24 Apr 2025   Prob (F-statistic):             0.0387\n",
      "Time:                        18:18:09   Log-Likelihood:                -2855.0\n",
      "No. Observations:                 513   AIC:                             5720.\n",
      "Df Residuals:                     508   BIC:                             5741.\n",
      "Df Model:                           4                                         \n",
      "Covariance Type:            nonrobust                                         \n",
      "==============================================================================\n",
      "                 coef    std err          t      P>|t|      [0.025      0.975]\n",
      "------------------------------------------------------------------------------\n",
      "Intercept     -7.0555     20.245     -0.348      0.728     -46.830      32.719\n",
      "temp          -0.0312      0.749     -0.042      0.967      -1.502       1.439\n",
      "DMC            0.3243      0.150      2.165      0.031       0.030       0.618\n",
      "RH             0.2046      0.320      0.639      0.523      -0.425       0.834\n",
      "DMC:RH        -0.0049      0.003     -1.900      0.058      -0.010       0.000\n",
      "==============================================================================\n",
      "Omnibus:                      968.163   Durbin-Watson:                   1.659\n",
      "Prob(Omnibus):                  0.000   Jarque-Bera (JB):           775393.903\n",
      "Skew:                          12.572   Prob(JB):                         0.00\n",
      "Kurtosis:                     191.795   Cond. No.                     4.59e+04\n",
      "==============================================================================\n",
      "\n",
      "Notes:\n",
      "[1] Standard Errors assume that the covariance matrix of the errors is correctly specified.\n",
      "[2] The condition number is large, 4.59e+04. This might indicate that there are\n",
      "strong multicollinearity or other numerical problems.\n"
     ]
    },
    {
     "data": {
      "text/plain": [
       "0.0119"
      ]
     },
     "execution_count": 18,
     "metadata": {},
     "output_type": "execute_result"
    }
   ],
   "source": [
    "model_interaction_formula = smf.ols('area ~ temp + DMC * RH', data=df).fit()\n",
    "\n",
    "print(model_interaction_formula.summary())\n",
    "\n",
    "r_squared_adj_model = model_interaction_formula.rsquared_adj\n",
    "round(r_squared_adj_model, 4)"
   ]
  },
  {
   "cell_type": "code",
   "execution_count": 19,
   "id": "8b79939f",
   "metadata": {},
   "outputs": [
    {
     "name": "stdout",
     "output_type": "stream",
     "text": [
      "                            OLS Regression Results                            \n",
      "==============================================================================\n",
      "Dep. Variable:                   area   R-squared:                       0.020\n",
      "Model:                            OLS   Adj. R-squared:                  0.010\n",
      "Method:                 Least Squares   F-statistic:                     2.034\n",
      "Date:                Thu, 24 Apr 2025   Prob (F-statistic):             0.0724\n",
      "Time:                        18:18:09   Log-Likelihood:                -2855.0\n",
      "No. Observations:                 513   AIC:                             5722.\n",
      "Df Residuals:                     507   BIC:                             5747.\n",
      "Df Model:                           5                                         \n",
      "Covariance Type:            nonrobust                                         \n",
      "==========================================================================================\n",
      "                             coef    std err          t      P>|t|      [0.025      0.975]\n",
      "------------------------------------------------------------------------------------------\n",
      "Intercept                 -7.2684     20.469     -0.355      0.723     -47.484      32.947\n",
      "rain_indicator[T.True]    -1.7596     23.838     -0.074      0.941     -48.593      45.074\n",
      "temp                      -0.0212      0.761     -0.028      0.978      -1.517       1.475\n",
      "DMC                        0.3227      0.151      2.131      0.034       0.025       0.620\n",
      "RH                         0.2066      0.322      0.642      0.521      -0.426       0.839\n",
      "DMC:RH                    -0.0049      0.003     -1.866      0.063      -0.010       0.000\n",
      "==============================================================================\n",
      "Omnibus:                      968.201   Durbin-Watson:                   1.659\n",
      "Prob(Omnibus):                  0.000   Jarque-Bera (JB):           775560.104\n",
      "Skew:                          12.573   Prob(JB):                         0.00\n",
      "Kurtosis:                     191.815   Cond. No.                     5.52e+04\n",
      "==============================================================================\n",
      "\n",
      "Notes:\n",
      "[1] Standard Errors assume that the covariance matrix of the errors is correctly specified.\n",
      "[2] The condition number is large, 5.52e+04. This might indicate that there are\n",
      "strong multicollinearity or other numerical problems.\n"
     ]
    }
   ],
   "source": [
    "#indicator variables\n",
    "df['rain_indicator'] = (df['rain'] > 0)\n",
    "\n",
    "model_rain= smf.ols('area ~ temp + DMC * RH + rain_indicator', data=df).fit()\n",
    "print(model_rain.summary())\n",
    "\n",
    "#slightly worse than model_interaction_formula\n"
   ]
  },
  {
   "cell_type": "code",
   "execution_count": 20,
   "id": "ccb88dbc",
   "metadata": {},
   "outputs": [
    {
     "name": "stdout",
     "output_type": "stream",
     "text": [
      "                            OLS Regression Results                            \n",
      "==============================================================================\n",
      "Dep. Variable:               log_area   R-squared:                       0.014\n",
      "Model:                            OLS   Adj. R-squared:                  0.006\n",
      "Method:                 Least Squares   F-statistic:                     1.776\n",
      "Date:                Thu, 24 Apr 2025   Prob (F-statistic):              0.132\n",
      "Time:                        18:18:09   Log-Likelihood:                -895.61\n",
      "No. Observations:                 513   AIC:                             1801.\n",
      "Df Residuals:                     508   BIC:                             1822.\n",
      "Df Model:                           4                                         \n",
      "Covariance Type:            nonrobust                                         \n",
      "==============================================================================\n",
      "                 coef    std err          t      P>|t|      [0.025      0.975]\n",
      "------------------------------------------------------------------------------\n",
      "Intercept      0.9773      0.444      2.200      0.028       0.105       1.850\n",
      "temp          -0.0140      0.016     -0.853      0.394      -0.046       0.018\n",
      "DMC            0.0069      0.003      2.094      0.037       0.000       0.013\n",
      "RH             0.0022      0.007      0.315      0.753      -0.012       0.016\n",
      "DMC:RH     -9.234e-05   5.67e-05     -1.629      0.104      -0.000     1.9e-05\n",
      "==============================================================================\n",
      "Omnibus:                       86.966   Durbin-Watson:                   0.948\n",
      "Prob(Omnibus):                  0.000   Jarque-Bera (JB):              128.493\n",
      "Skew:                           1.166   Prob(JB):                     1.25e-28\n",
      "Kurtosis:                       3.758   Cond. No.                     4.59e+04\n",
      "==============================================================================\n",
      "\n",
      "Notes:\n",
      "[1] Standard Errors assume that the covariance matrix of the errors is correctly specified.\n",
      "[2] The condition number is large, 4.59e+04. This might indicate that there are\n",
      "strong multicollinearity or other numerical problems.\n"
     ]
    }
   ],
   "source": [
    "#try log transformation\n",
    "\n",
    "df['log_area'] = np.log1p(df['area'])\n",
    "\n",
    "model_log_interaction = smf.ols('log_area ~ temp + DMC * RH', data=df).fit()\n",
    "\n",
    "print(model_log_interaction.summary())"
   ]
  },
  {
   "cell_type": "code",
   "execution_count": 21,
   "id": "77c5b5ee",
   "metadata": {},
   "outputs": [],
   "source": [
    "#step 4\n",
    "#compare models\n",
    "#Ask ChatGPT: Can you write me a function to output rsquared, adjusted rsquared, aic, and bic for model name?\n",
    "def summarize_model(model):\n",
    "    print(\"📊 Model Summary\")\n",
    "    print(\"-\" * 40)\n",
    "    print(f\"R-squared:        {model.rsquared:.4f}\")\n",
    "    print(f\"Adjusted R²:      {model.rsquared_adj:.4f}\")\n",
    "    print(f\"AIC:              {model.aic:.2f}\")\n",
    "    print(f\"BIC:              {model.bic:.2f}\")\n",
    "    print(\"-\" * 40)\n",
    "    print()\n",
    "\n"
   ]
  },
  {
   "cell_type": "code",
   "execution_count": 22,
   "id": "8e135062",
   "metadata": {},
   "outputs": [
    {
     "name": "stdout",
     "output_type": "stream",
     "text": [
      "Model Name: model_log_interaction\n",
      "📊 Model Summary\n",
      "----------------------------------------\n",
      "R-squared:        0.0138\n",
      "Adjusted R²:      0.0060\n",
      "AIC:              1801.23\n",
      "BIC:              1822.43\n",
      "----------------------------------------\n",
      "\n"
     ]
    }
   ],
   "source": [
    "print('Model Name: model_log_interaction')\n",
    "summarize_model(model_log_interaction)\n"
   ]
  },
  {
   "cell_type": "code",
   "execution_count": 23,
   "id": "ab805cc8",
   "metadata": {},
   "outputs": [
    {
     "name": "stdout",
     "output_type": "stream",
     "text": [
      "Model Name: model_temp_dmc\n",
      "📊 Model Summary\n",
      "----------------------------------------\n",
      "R-squared:        0.0160\n",
      "Adjusted R²:      0.0062\n",
      "AIC:              5723.87\n",
      "BIC:              5749.31\n",
      "----------------------------------------\n",
      "\n"
     ]
    }
   ],
   "source": [
    "print('Model Name: model_temp_dmc')\n",
    "summarize_model(model_temp_dmc)"
   ]
  },
  {
   "cell_type": "code",
   "execution_count": 24,
   "id": "97e8ba29",
   "metadata": {},
   "outputs": [
    {
     "name": "stdout",
     "output_type": "stream",
     "text": [
      "Model Name: model_interaction_formula\n",
      "📊 Model Summary\n",
      "----------------------------------------\n",
      "R-squared:        0.0197\n",
      "Adjusted R²:      0.0119\n",
      "AIC:              5719.94\n",
      "BIC:              5741.14\n",
      "----------------------------------------\n",
      "\n"
     ]
    }
   ],
   "source": [
    "print('Model Name: model_interaction_formula')\n",
    "summarize_model(model_interaction_formula)"
   ]
  },
  {
   "cell_type": "code",
   "execution_count": 25,
   "id": "a863cabc",
   "metadata": {},
   "outputs": [
    {
     "name": "stdout",
     "output_type": "stream",
     "text": [
      "Model Name: model_rain\n",
      "📊 Model Summary\n",
      "----------------------------------------\n",
      "R-squared:        0.0197\n",
      "Adjusted R²:      0.0100\n",
      "AIC:              5721.93\n",
      "BIC:              5747.37\n",
      "----------------------------------------\n",
      "\n"
     ]
    }
   ],
   "source": [
    "print('Model Name: model_rain')\n",
    "summarize_model(model_rain)"
   ]
  },
  {
   "cell_type": "code",
   "execution_count": 26,
   "id": "a0308bc9",
   "metadata": {},
   "outputs": [
    {
     "name": "stdout",
     "output_type": "stream",
     "text": [
      "Model Name: model_interaction\n",
      "📊 Model Summary\n",
      "----------------------------------------\n",
      "R-squared:        0.0124\n",
      "Adjusted R²:      0.0027\n",
      "AIC:              5725.70\n",
      "BIC:              5751.14\n",
      "----------------------------------------\n",
      "\n"
     ]
    }
   ],
   "source": [
    "print('Model Name: model_interaction')\n",
    "summarize_model(model_interaction)"
   ]
  },
  {
   "cell_type": "code",
   "execution_count": 27,
   "id": "27313786",
   "metadata": {},
   "outputs": [
    {
     "name": "stdout",
     "output_type": "stream",
     "text": [
      "Model Name: model_xy\n",
      "📊 Model Summary\n",
      "----------------------------------------\n",
      "R-squared:        0.0041\n",
      "Adjusted R²:      0.0002\n",
      "AIC:              5724.00\n",
      "BIC:              5736.72\n",
      "----------------------------------------\n",
      "\n"
     ]
    }
   ],
   "source": [
    "print('Model Name: model_xy')\n",
    "summarize_model(model_xy)"
   ]
  },
  {
   "cell_type": "code",
   "execution_count": 28,
   "id": "afeb1282",
   "metadata": {},
   "outputs": [
    {
     "name": "stdout",
     "output_type": "stream",
     "text": [
      "Model Name: model_temp_only\n",
      "📊 Model Summary\n",
      "----------------------------------------\n",
      "R-squared:        0.0113\n",
      "Adjusted R²:      0.0074\n",
      "AIC:              5720.28\n",
      "BIC:              5733.00\n",
      "----------------------------------------\n",
      "\n"
     ]
    }
   ],
   "source": [
    "print('Model Name: model_temp_only')\n",
    "summarize_model(model_temp_only)"
   ]
  },
  {
   "cell_type": "code",
   "execution_count": 29,
   "id": "863f2e64",
   "metadata": {},
   "outputs": [
    {
     "name": "stdout",
     "output_type": "stream",
     "text": [
      "Model Name: model_quad\n",
      "📊 Model Summary\n",
      "----------------------------------------\n",
      "R-squared:        0.0150\n",
      "Adjusted R²:      0.0033\n",
      "AIC:              5726.36\n",
      "BIC:              5756.04\n",
      "----------------------------------------\n",
      "\n"
     ]
    }
   ],
   "source": [
    "print('Model Name: model_quad')\n",
    "summarize_model(model_quad)"
   ]
  },
  {
   "cell_type": "code",
   "execution_count": 30,
   "id": "001e7f5a",
   "metadata": {},
   "outputs": [
    {
     "data": {
      "image/png": "[encoded data removed]",
      "text/plain": [
       "<Figure size 640x480 with 1 Axes>"
      ]
     },
     "metadata": {},
     "output_type": "display_data"
    },
    {
     "data": {
      "image/png": "[encoded data removed]",
      "text/plain": [
       "<Figure size 640x480 with 1 Axes>"
      ]
     },
     "metadata": {},
     "output_type": "display_data"
    }
   ],
   "source": [
    "#model_interaction_formula still best fit... may want to use model_rain if including rainfall\n",
    "\n",
    "# Residuals vs Fitted Plot model_interaction_formula\n",
    "sns.residplot(x=model_interaction_formula.fittedvalues, y=model_interaction_formula.resid, lowess=True, line_kws={\"color\": \"red\"})\n",
    "plt.xlabel(\"Fitted Values\")\n",
    "plt.ylabel(\"Residuals\")\n",
    "plt.title(\"Residuals vs Fitted Plot (Interaction Model)\")\n",
    "plt.grid(True, alpha=0.3)\n",
    "plt.tight_layout()\n",
    "plt.show()\n",
    "\n",
    "# Q-Q Plot model_interaction_formula\n",
    "sm.qqplot(model_interaction_formula.resid, line='45')\n",
    "plt.title(\"Q-Q Plot of Residuals (Interaction Model)\")\n",
    "plt.grid(True, alpha=0.3)\n",
    "plt.tight_layout()\n",
    "plt.show()\n"
   ]
  },
  {
   "cell_type": "code",
   "execution_count": 31,
   "id": "08e0381b",
   "metadata": {},
   "outputs": [
    {
     "data": {
      "text/plain": [
       "array([411])"
      ]
     },
     "execution_count": 31,
     "metadata": {},
     "output_type": "execute_result"
    }
   ],
   "source": [
    "#Cooks D\n",
    "influence = model_interaction_formula.get_influence()\n",
    "cooks_d = influence.cooks_distance[0]\n",
    "\n",
    "influential_points = np.where(cooks_d > 0.5)[0] #lowered to 0.5 from 1 and got 411. Interpreting as model is quite fragile\n",
    "\n",
    "influential_points"
   ]
  },
  {
   "cell_type": "code",
   "execution_count": 32,
   "id": "75c59e87",
   "metadata": {},
   "outputs": [
    {
     "data": {
      "image/png": "[encoded data removed]",
      "text/plain": [
       "<Figure size 640x480 with 1 Axes>"
      ]
     },
     "metadata": {},
     "output_type": "display_data"
    }
   ],
   "source": [
    "plt.stem(np.arange(len(cooks_d)), cooks_d, basefmt=\" \")\n",
    "plt.title(\"Cook's Distance\")\n",
    "plt.xlabel(\"Observation Index\")\n",
    "plt.ylabel(\"Cook's Distance\")\n",
    "plt.axhline(1, color='red', linestyle='--')  # Threshold line\n",
    "plt.show()"
   ]
  },
  {
   "cell_type": "code",
   "execution_count": 33,
   "id": "55c1611c",
   "metadata": {},
   "outputs": [
    {
     "data": {
      "text/plain": [
       "(449.1182, array([ 0.11019824, -0.0052923 ,  0.34566737,  0.23530036]))"
      ]
     },
     "execution_count": 33,
     "metadata": {},
     "output_type": "execute_result"
    }
   ],
   "source": [
    "#Step 5\n",
    "#ridge and lasso\n",
    "df[\"DMC*RH\"] = df[\"DMC\"] * df[\"RH\"]\n",
    "X = df[[\"temp\", \"DMC*RH\", \"DMC\", \"RH\", ]]\n",
    "y = df[\"area\"]\n",
    "\n",
    "seed = 42\n",
    "\n",
    "# Split data\n",
    "X_train, X_test, y_train, y_test = train_test_split(X, y, test_size=0.2, random_state=42)\n",
    "\n",
    "ridge = Ridge(alpha=1.0)\n",
    "ridge.fit(X_train, y_train)\n",
    "\n",
    "ridge_pred = ridge.predict(X_test)\n",
    "ridge_mse = mean_squared_error(y_test, ridge_pred)\n",
    "\n",
    "round(ridge_mse, 4), ridge.coef_\n"
   ]
  },
  {
   "cell_type": "code",
   "execution_count": 34,
   "id": "25773bdb",
   "metadata": {},
   "outputs": [
    {
     "data": {
      "text/plain": [
       "(448.9391, array([ 0.10298733, -0.00528974,  0.3458522 ,  0.23317908]))"
      ]
     },
     "execution_count": 34,
     "metadata": {},
     "output_type": "execute_result"
    }
   ],
   "source": [
    "seed = 42\n",
    "\n",
    "# Split data\n",
    "X_train, X_test, y_train, y_test = train_test_split(X, y, test_size=0.2, random_state=42)\n",
    "\n",
    "lasso = Lasso(alpha=0.1)\n",
    "lasso.fit(X_train, y_train)\n",
    "\n",
    "lasso_pred = lasso.predict(X_test)\n",
    "lasso_mse = mean_squared_error(y_test, lasso_pred)\n",
    "\n",
    "round(lasso_mse, 4), lasso.coef_"
   ]
  },
  {
   "cell_type": "code",
   "execution_count": 35,
   "id": "1642d9eb",
   "metadata": {},
   "outputs": [
    {
     "name": "stdout",
     "output_type": "stream",
     "text": [
      "           Ridge     Lasso\n",
      "temp    0.110198  0.102987\n",
      "DMC*RH -0.005292 -0.005290\n",
      "DMC     0.345667  0.345852\n",
      "RH      0.235300  0.233179\n"
     ]
    }
   ],
   "source": [
    "#ChatGPT prompt: Is there a way to tie each number to what it is related to?\n",
    "#output:\n",
    "ridge_coefs_labeled = pd.Series(ridge.coef_, index=X.columns, name=\"Ridge\")\n",
    "lasso_coefs_labeled = pd.Series(lasso.coef_, index=X.columns, name=\"Lasso\")\n",
    "\n",
    "# Print them side-by-side\n",
    "print(pd.concat([ridge_coefs_labeled, lasso_coefs_labeled], axis=1))"
   ]
  },
  {
   "cell_type": "code",
   "execution_count": 36,
   "id": "15edbddc",
   "metadata": {},
   "outputs": [],
   "source": [
    "#Step 6\n",
    "#Create a binary target variable based on a threshold in y (e.g., median or other percentile).\n",
    "#Select relevant predictors and scale them using StandardScaler\n",
    "\n",
    "threshold = df['area'].median()\n",
    "\n",
    "df['area_binary'] = (df['area'] > threshold).astype(int)\n",
    "\n",
    "X = df[['temp', 'DMC', 'RH']]\n",
    "# X = sm.add_constant(X)\n",
    "y = df['area_binary']\n",
    "\n",
    "X_train, X_test, y_train, y_test = train_test_split(X, y, test_size=0.3, random_state=42)\n",
    "\n",
    "scaler = StandardScaler()\n",
    "\n",
    "X_train_scaled = pd.DataFrame(scaler.fit_transform(X_train), columns=X_train.columns)\n",
    "X_test_scaled = pd.DataFrame(scaler.transform(X_test), columns=X_test.columns)\n"
   ]
  },
  {
   "cell_type": "code",
   "execution_count": 37,
   "id": "97e5f4ab",
   "metadata": {},
   "outputs": [
    {
     "name": "stdout",
     "output_type": "stream",
     "text": [
      "Model Intercept: [0.06142823]\n",
      "Model Coefficients: [[ 1.32864430e-01  3.60071983e-02 -3.73963512e-05]]\n"
     ]
    }
   ],
   "source": [
    "#Step 7\n",
    "#Train a logistic regression model using the scaled predictors.\n",
    "#Display coefficients and the intercept.\n",
    "#Predict probabilities and binary outcomes.\n",
    "#Evaluate performance using accuracy, confusion matrix, precision, recall, and F1-score.\n",
    "\n",
    "model = LogisticRegression()\n",
    "model.fit(X_train_scaled, y_train)\n",
    "\n",
    "#intercept\n",
    "print(f\"Model Intercept: {model.intercept_}\")\n",
    "#coef\n",
    "print(f\"Model Coefficients: {model.coef_}\")"
   ]
  },
  {
   "cell_type": "code",
   "execution_count": 38,
   "id": "03dc3876",
   "metadata": {},
   "outputs": [
    {
     "data": {
      "text/plain": [
       "array([0, 1, 0, 1, 1, 1, 1, 1, 1, 1])"
      ]
     },
     "execution_count": 38,
     "metadata": {},
     "output_type": "execute_result"
    }
   ],
   "source": [
    "#predict outcomes\n",
    "y_pred_prob = model.predict_proba(X_test_scaled)[:,1]\n",
    "y_pred_class = model.predict(X_test_scaled)\n",
    "\n",
    "y_pred_prob[:10]\n",
    "y_pred_class[:10]\n"
   ]
  },
  {
   "cell_type": "code",
   "execution_count": 39,
   "id": "87332087",
   "metadata": {},
   "outputs": [
    {
     "data": {
      "text/plain": [
       "array([[27, 56],\n",
       "       [16, 55]])"
      ]
     },
     "execution_count": 39,
     "metadata": {},
     "output_type": "execute_result"
    }
   ],
   "source": [
    "#confusion matrix\n",
    "confusion_matrix(y_test, y_pred_class)\n",
    "\n",
    "#true negative: 27, false positive: 56 (high!), false negative: 16, true positive : 55"
   ]
  },
  {
   "cell_type": "code",
   "execution_count": 40,
   "id": "371fd607",
   "metadata": {},
   "outputs": [
    {
     "data": {
      "text/plain": [
       "0.5325"
      ]
     },
     "execution_count": 40,
     "metadata": {},
     "output_type": "execute_result"
    }
   ],
   "source": [
    "round(accuracy_score(y_test, y_pred_class), 4)\n",
    "#53.25% accurate"
   ]
  },
  {
   "cell_type": "code",
   "execution_count": 41,
   "id": "fd44397c",
   "metadata": {},
   "outputs": [
    {
     "name": "stdout",
     "output_type": "stream",
     "text": [
      "Classification Report:\n",
      "               precision    recall  f1-score   support\n",
      "\n",
      "           0       0.63      0.33      0.43        83\n",
      "           1       0.50      0.77      0.60        71\n",
      "\n",
      "    accuracy                           0.53       154\n",
      "   macro avg       0.56      0.55      0.52       154\n",
      "weighted avg       0.57      0.53      0.51       154\n",
      "\n"
     ]
    }
   ],
   "source": [
    "print(\"Classification Report:\\n\", classification_report(y_test, y_pred_class))\n",
    "\n",
    "#ask chatgpt for interpretation... output:\n",
    "# Your model is better at identifying fires that did spread (Class 1):\n",
    "\n",
    "# Recall for class 1 is high (0.77) → it's catching most of the real fire events!\n",
    "\n",
    "# But precision is only 0.50 → it also makes a lot of false alarms (predicts fire when it didn’t spread)\n",
    "\n",
    "# ❄️ Your model struggles more with class 0 (non-spreading fires):\n",
    "\n",
    "# Only catches 33% of them (recall = 0.33)\n",
    "\n",
    "# So it's missing a lot of \"safe\" conditions\n",
    "\n",
    "\n"
   ]
  },
  {
   "cell_type": "code",
   "execution_count": 42,
   "id": "7d71f77b",
   "metadata": {},
   "outputs": [
    {
     "data": {
      "text/html": [
       "<div>\n",
       "<style scoped>\n",
       "    .dataframe tbody tr th:only-of-type {\n",
       "        vertical-align: middle;\n",
       "    }\n",
       "\n",
       "    .dataframe tbody tr th {\n",
       "        vertical-align: top;\n",
       "    }\n",
       "\n",
       "    .dataframe thead th {\n",
       "        text-align: right;\n",
       "    }\n",
       "</style>\n",
       "<table border=\"1\" class=\"dataframe\">\n",
       "  <thead>\n",
       "    <tr style=\"text-align: right;\">\n",
       "      <th></th>\n",
       "      <th>Variable</th>\n",
       "      <th>VIF</th>\n",
       "    </tr>\n",
       "  </thead>\n",
       "  <tbody>\n",
       "    <tr>\n",
       "      <th>0</th>\n",
       "      <td>temp</td>\n",
       "      <td>2.267</td>\n",
       "    </tr>\n",
       "    <tr>\n",
       "      <th>1</th>\n",
       "      <td>DMC</td>\n",
       "      <td>1.583</td>\n",
       "    </tr>\n",
       "    <tr>\n",
       "      <th>2</th>\n",
       "      <td>RH</td>\n",
       "      <td>1.726</td>\n",
       "    </tr>\n",
       "  </tbody>\n",
       "</table>\n",
       "</div>"
      ],
      "text/plain": [
       "  Variable    VIF\n",
       "0     temp  2.267\n",
       "1      DMC  1.583\n",
       "2       RH  1.726"
      ]
     },
     "execution_count": 42,
     "metadata": {},
     "output_type": "execute_result"
    }
   ],
   "source": [
    "#VIF\n",
    "# vif = pd.DataFrame()\n",
    "# vif[\"Variable\"] = X_train.columns\n",
    "# vif[\"VIF\"] = [variance_inflation_factor(X_train_scaled.values, i) for i in range(X_train_scaled.shape[1])]\n",
    "# print(vif)\n",
    "#Asked ChatGPT about this error: /opt/anaconda3/envs/mac_intel.c0c1/lib/python3.12/site-packages/statsmodels/regression/linear_model.py:1784: RuntimeWarning: invalid value encountered in scalar divide return 1 - self.ssr/self.uncentered_tss\n",
    "#respone: error is due to the constant column, which has zero variance, so the model can’t compute a meaningful VIF → returns NaN.\n",
    "\n",
    "# What You Should Do\n",
    "# 🔧 Remove the constant before VIF calculation:\n",
    "X_vif = X_train_scaled.drop(columns=[\"const\"], errors=\"ignore\")\n",
    "# Then recalculate VIF as you did:\n",
    "vif = pd.DataFrame()\n",
    "vif[\"VIF\"] = [variance_inflation_factor(X_vif.values, i) for i in range(X_vif.shape[1])]\n",
    "vif[\"Variable\"] = X_vif.columns\n",
    "vif = vif[[\"Variable\", \"VIF\"]].round(3)\n",
    "vif"
   ]
  },
  {
   "cell_type": "code",
   "execution_count": 43,
   "id": "d13e50ed",
   "metadata": {},
   "outputs": [
    {
     "name": "stdout",
     "output_type": "stream",
     "text": [
      "              precision    recall  f1-score   support\n",
      "\n",
      "           0       0.64      0.34      0.44        83\n",
      "           1       0.50      0.77      0.61        71\n",
      "\n",
      "    accuracy                           0.54       154\n",
      "   macro avg       0.57      0.56      0.52       154\n",
      "weighted avg       0.57      0.54      0.52       154\n",
      "\n"
     ]
    }
   ],
   "source": [
    "#rain classification \n",
    "X_rain = df[['temp', 'DMC', 'RH', 'rain']]\n",
    "df['area_binary'] = (df['area'] > threshold).astype(int)\n",
    "y = df['area_binary'] \n",
    "\n",
    "X_train, X_test, y_train, y_test = train_test_split(X_rain, y, test_size=0.3, random_state=42)\n",
    "\n",
    "scaler = StandardScaler()\n",
    "X_train_scaled = scaler.fit_transform(X_train)\n",
    "X_test_scaled = scaler.transform(X_test)\n",
    "\n",
    "model_rain = LogisticRegression()\n",
    "model_rain.fit(X_train_scaled, y_train)\n",
    "\n",
    "y_pred_class_rain = model_rain.predict(X_test_scaled)\n",
    "\n",
    "print(classification_report(y_test, y_pred_class_rain))"
   ]
  },
  {
   "cell_type": "code",
   "execution_count": 44,
   "id": "2cf94074",
   "metadata": {},
   "outputs": [
    {
     "name": "stdout",
     "output_type": "stream",
     "text": [
      "0.539\n"
     ]
    }
   ],
   "source": [
    "#rain accuracy\n",
    "print(round(accuracy_score(y_test, y_pred_class_rain), 4))"
   ]
  },
  {
   "cell_type": "code",
   "execution_count": 45,
   "id": "e40471a2",
   "metadata": {},
   "outputs": [
    {
     "data": {
      "text/html": [
       "<div>\n",
       "<style scoped>\n",
       "    .dataframe tbody tr th:only-of-type {\n",
       "        vertical-align: middle;\n",
       "    }\n",
       "\n",
       "    .dataframe tbody tr th {\n",
       "        vertical-align: top;\n",
       "    }\n",
       "\n",
       "    .dataframe thead th {\n",
       "        text-align: right;\n",
       "    }\n",
       "</style>\n",
       "<table border=\"1\" class=\"dataframe\">\n",
       "  <thead>\n",
       "    <tr style=\"text-align: right;\">\n",
       "      <th></th>\n",
       "      <th>Variable</th>\n",
       "      <th>VIF</th>\n",
       "    </tr>\n",
       "  </thead>\n",
       "  <tbody>\n",
       "    <tr>\n",
       "      <th>0</th>\n",
       "      <td>temp</td>\n",
       "      <td>2.204</td>\n",
       "    </tr>\n",
       "    <tr>\n",
       "      <th>1</th>\n",
       "      <td>DMC</td>\n",
       "      <td>1.570</td>\n",
       "    </tr>\n",
       "    <tr>\n",
       "      <th>2</th>\n",
       "      <td>RH</td>\n",
       "      <td>1.739</td>\n",
       "    </tr>\n",
       "    <tr>\n",
       "      <th>3</th>\n",
       "      <td>rain</td>\n",
       "      <td>1.032</td>\n",
       "    </tr>\n",
       "  </tbody>\n",
       "</table>\n",
       "</div>"
      ],
      "text/plain": [
       "  Variable    VIF\n",
       "0     temp  2.204\n",
       "1      DMC  1.570\n",
       "2       RH  1.739\n",
       "3     rain  1.032"
      ]
     },
     "execution_count": 45,
     "metadata": {},
     "output_type": "execute_result"
    }
   ],
   "source": [
    "# Scale the predictor variables\n",
    "scaler = StandardScaler()\n",
    "X_rain_scaled = pd.DataFrame(scaler.fit_transform(X_rain), columns=X_rain.columns)\n",
    "\n",
    "# Calculate VIF\n",
    "vif = pd.DataFrame()\n",
    "vif[\"VIF\"] = [variance_inflation_factor(X_rain_scaled.values, i) for i in range(X_rain_scaled.shape[1])]\n",
    "vif[\"Variable\"] = X_rain_scaled.columns\n",
    "vif = vif[[\"Variable\", \"VIF\"]].round(3)\n",
    "\n",
    "vif\n",
    "\n",
    "#rain shows no correlation\n"
   ]
  },
  {
   "cell_type": "code",
   "execution_count": null,
   "id": "db252f64",
   "metadata": {},
   "outputs": [
    {
     "name": "stdout",
     "output_type": "stream",
     "text": [
      "              precision    recall  f1-score   support\n",
      "\n",
      "           0       0.59      0.31      0.41        83\n",
      "           1       0.48      0.75      0.59        71\n",
      "\n",
      "    accuracy                           0.51       154\n",
      "   macro avg       0.54      0.53      0.50       154\n",
      "weighted avg       0.54      0.51      0.49       154\n",
      "\n"
     ]
    }
   ],
   "source": [
    "#added this after analysis and talking to Paul... he said he had adj r-squared of 0.0234, so was curious how logistic regression model would react. \n",
    "df['wind_sq'] = df['wind'] ** 2\n",
    "df['DMC_RH'] = df['DMC'] * df['RH']\n",
    "X_three = df[['temp', 'DMC_RH', 'wind_sq', 'ISI']]\n",
    "\n",
    "df['area_binary'] = (df['area'] > threshold).astype(int)\n",
    "y = df['area_binary'] \n",
    "\n",
    "X_train, X_test, y_train, y_test = train_test_split(X_three, y, test_size=0.3, random_state=42)\n",
    "\n",
    "scaler = StandardScaler()\n",
    "X_train_scaled = scaler.fit_transform(X_train)\n",
    "X_test_scaled = scaler.transform(X_test)\n",
    "\n",
    "model_three = LogisticRegression()\n",
    "model_three.fit(X_train_scaled, y_train)\n",
    "\n",
    "y_pred_class_rain = model_rain.predict(X_test_scaled)\n",
    "\n",
    "print(classification_report(y_test, y_pred_class_rain))"
   ]
  },
  {
   "cell_type": "markdown",
   "id": "60bee0ce",
   "metadata": {},
   "source": [
    "Step 9\n",
    "1) Compare regression models and classification results.\n",
    "\n",
    "In order to evaluate potentially predicting fire size, I ran several regression models that looked at different combinations of environmental factors and transformations., The results for all models that were run were not the strongest as we did not have an Adjusted r-squared value greater than 0.012. The baseline model (X_base), had an adjusted r-squared value of 0.0069. The goal, obviously, was to improve from there. I started with quadratic terms for temp, RH, and DMC in a model I called X_Quad. I did this to look into potential non-linear relationships. However, this only lowered the adjusted r-squared value to 0.003, suggesting adding in squared terms did not improve the model and that there are no strong non-linear effects from these variables in predicting a fire area. Curious if I was oversaturating the model with variables, I tried just using temp and temp squared which brought me right back to my starting point of my baseline model (adjusted r-squared of 0.007). I then decided to look at interaction terms looking to see if the variables had an impact. I looked at temp and RH and temp and DMC, but neither were improvements on the baseline model. I then looked at area with temp and an interaction with DMC and RH in a model called model_interaction_formula. This gave me my highest r-squared value (0.20) and adjusted r-squared value of 0.012. I experimented a bit more with incorporating a rain indicator (model_rain) which preformed similarly to the model_interaction_formula model. It may mean that rain could be a predictor, but was not an improvement on the model. Lastly, I regularized models with Ridge and Lasso. This did not improve the performance of the model, but helped to reduce overfitting. Overall, none of the models provided a strong predictive performance, but the model_interaction_formula was the most balanced with simplicity and fit.\n",
    "\n",
    "With regards to classification, I created a binary target variable which separated the forest fires by whether the fire size was above the median. I used temp, DMC, and RH to train a logistic regression model. The overall accuracy of the model (accuracy score) was 53.25% suggesting that the model is slightly better than flipping a coin. The strength of this model was in its recall with a score of 77%. Precision, however, was only at 50% which means the model also had several false positives. Overall, the high recall makes this a potentially valuable tool as it can correctly identify a majority of actual spreading fires. Considering that using rain was my next closest r-squared adjusted, I ran another logistic model. There were slight improvements. The accuracy increased to 53.9%, recall did not change, and overall was nearly identcal. I read into this that while rain may be some sort of predictor, it has minimal impact.\n",
    "\n",
    "\n",
    "2) Highlight trade-offs between model simplicity, performance, and interpretability.\n",
    "\n",
    "As I worked through this lab and tested several models, each presented its own set of benefits and trade-offs. For example, in terms of simplicity, the model_temp_only model was quite simple, relying solely on temperature as a predictor. However, it performed  poorly, with an adjusted r-squared below 0.01. As I increased model complexity by introducing quadratic and interaction terms, performance improved slightly. The model_interaction_formula model yielded the best regression results (adjusted R² = 0.012) while still remaining interpretable. Regularization techniques such as Ridge and Lasso helped with over fitting, but did not improve overall predictive accuracy.Logistic regression struck a good balance between simplicity and usefulness. While accuracy was only at 53.9% (slightly better than a guess), the model was able to correctly identify 77% of actual spreading fires, which is especially valuable in a real-world context like fire prevention, where missing a critical event is more costly than issuing a false alarm.\n",
    "\n",
    "3) Recommend the best-performing model for predicting or classifying fire behavior\n",
    "\n",
    "Based on results from regression and classificaiton models, the best model for understanding fire behavior is the logistic regression model (with rain) that classifies fires as above or below a median size. As stated above, none of the regression models produced strong results (the best r-squared of 0.012), the logistic regression model showed value by identifying 77% of actaul fires that spready psat the median. Even though the model would have a fair amount of false positives, the high recall means that missing a fire that would cause a lot of damage is less likely. In my opinion, false positives are okay in the context of wildfire prevention. Safety and acting quickly are of the utmost importance. "
   ]
  }
 ],
 "metadata": {
  "kernelspec": {
   "display_name": "mac_intel.c0c1",
   "language": "python",
   "name": "python3"
  },
  "language_info": {
   "codemirror_mode": {
    "name": "ipython",
    "version": 3
   },
   "file_extension": ".py",
   "mimetype": "text/x-python",
   "name": "python",
   "nbconvert_exporter": "python",
   "pygments_lexer": "ipython3",
   "version": "3.12.4"
  }
 },
 "nbformat": 4,
 "nbformat_minor": 5
}
